{
 "cells": [
  {
   "cell_type": "code",
   "execution_count": null,
   "metadata": {},
   "outputs": [],
   "source": [
    "# Number divisible by 5 & 7"
   ]
  },
  {
   "cell_type": "code",
   "execution_count": 2,
   "metadata": {},
   "outputs": [
    {
     "name": "stdout",
     "output_type": "stream",
     "text": [
      "Enter the lower number0\n",
      "Enter the Upper number100\n",
      "0\n",
      "35\n",
      "70\n"
     ]
    }
   ],
   "source": [
    "num1=int(input(\"Enter the lower number\"))\n",
    "num2=int(input(\"Enter the Upper number\"))\n",
    "for i in range(num1,num2):\n",
    "    if i%7==0 and i%5==0:\n",
    "        print(i)\n"
   ]
  },
  {
   "cell_type": "code",
   "execution_count": null,
   "metadata": {},
   "outputs": [],
   "source": [
    "# 2.Addition"
   ]
  },
  {
   "cell_type": "code",
   "execution_count": 6,
   "metadata": {},
   "outputs": [
    {
     "name": "stdout",
     "output_type": "stream",
     "text": [
      "Enter First Number20\n",
      "Enter the Second NUmber45\n",
      "65\n"
     ]
    }
   ],
   "source": [
    "a=int(input(\"Enter First Number\"))\n",
    "b=int(input(\"Enter the Second NUmber\"))\n",
    "i=a+b\n",
    "print(i)\n",
    "    "
   ]
  },
  {
   "cell_type": "code",
   "execution_count": null,
   "metadata": {},
   "outputs": [],
   "source": [
    "# 3.Maximum of number"
   ]
  },
  {
   "cell_type": "code",
   "execution_count": 7,
   "metadata": {},
   "outputs": [
    {
     "name": "stdout",
     "output_type": "stream",
     "text": [
      "Enter First Number20\n",
      "Enter the Second NUmber40\n",
      "40\n"
     ]
    }
   ],
   "source": [
    "a=int(input(\"Enter First Number\"))\n",
    "b=int(input(\"Enter the Second NUmber\"))\n",
    "i=max(a,b)\n",
    "print(i)"
   ]
  },
  {
   "cell_type": "code",
   "execution_count": null,
   "metadata": {},
   "outputs": [],
   "source": [
    "# 4.Factorial"
   ]
  },
  {
   "cell_type": "code",
   "execution_count": null,
   "metadata": {},
   "outputs": [],
   "source": [
    "num=int(input(\"Enter a number\"))\n",
    "fact=1\n",
    "for i in range (1,num+1):\n",
    "    fact=fact*i\n",
    "print(fact)"
   ]
  },
  {
   "cell_type": "code",
   "execution_count": null,
   "metadata": {},
   "outputs": [],
   "source": [
    "# 5.Simple interest"
   ]
  },
  {
   "cell_type": "code",
   "execution_count": null,
   "metadata": {},
   "outputs": [],
   "source": [
    "P=float(input(\"Enter the amount:\"))\n",
    "N=float(input(\"Number of years:\"))\n",
    "R=float(input(\"Rate of interest:\"))\n",
    "SI=(P*N*R)/100\n",
    "print('simple Interest :{0}'.format(SI))"
   ]
  },
  {
   "cell_type": "code",
   "execution_count": null,
   "metadata": {},
   "outputs": [],
   "source": [
    "# 6.Compound Interest"
   ]
  },
  {
   "cell_type": "code",
   "execution_count": 4,
   "metadata": {},
   "outputs": [
    {
     "name": "stdout",
     "output_type": "stream",
     "text": [
      "Enter the amount:5000\n",
      "Number of years:2\n",
      "Rate of interest:2.5\n",
      "Compound Interest:5253.125\n"
     ]
    }
   ],
   "source": [
    "P=float(input(\"Enter the amount:\"))\n",
    "N=float(input(\"Number of years:\"))\n",
    "R=float(input(\"Rate of interest:\"))\n",
    "CI=P*(1+R/100)**N\n",
    "print(\"Compound Interest:{}\".format(CI))"
   ]
  },
  {
   "cell_type": "code",
   "execution_count": null,
   "metadata": {},
   "outputs": [],
   "source": [
    "#7.Aromstrong Number"
   ]
  },
  {
   "cell_type": "code",
   "execution_count": 15,
   "metadata": {},
   "outputs": [
    {
     "name": "stdout",
     "output_type": "stream",
     "text": [
      "Enter the number:  153\n",
      "number is Aromstront\n"
     ]
    }
   ],
   "source": [
    "n=int(input('Enter the number:  ')) ##153\n",
    "count=0\n",
    "s=n\n",
    "while n!=0:\n",
    "    degit=n%10\n",
    "    count=count+degit**3\n",
    "    n=n//10\n",
    "if s == count:\n",
    "    print('number is Aromstront')\n",
    "else:\n",
    "    print('number is not Aromstront')"
   ]
  },
  {
   "cell_type": "code",
   "execution_count": 12,
   "metadata": {},
   "outputs": [],
   "source": [
    "import math"
   ]
  },
  {
   "cell_type": "code",
   "execution_count": null,
   "metadata": {},
   "outputs": [],
   "source": [
    "# 8.Radius of circle"
   ]
  },
  {
   "cell_type": "code",
   "execution_count": 14,
   "metadata": {},
   "outputs": [
    {
     "name": "stdout",
     "output_type": "stream",
     "text": [
      "Enter the Radius of circle: 45\n",
      "Area:63.61725123519331\n"
     ]
    }
   ],
   "source": [
    "R=float(input(\"Enter the Radius of circle: \"))\n",
    "Area=(math.pi*R**2)/100\n",
    "print('Area:{0}'.format(Area))"
   ]
  },
  {
   "cell_type": "code",
   "execution_count": null,
   "metadata": {},
   "outputs": [],
   "source": [
    "# 9.Find Number is Prime or not"
   ]
  },
  {
   "cell_type": "code",
   "execution_count": 16,
   "metadata": {},
   "outputs": [
    {
     "name": "stdout",
     "output_type": "stream",
     "text": [
      "Enter the number47\n",
      "Number is primre\n"
     ]
    }
   ],
   "source": [
    "n=int(input('Enter the number'))\n",
    "count=0\n",
    "for i in range(1,n+1):\n",
    "    if n%i ==0:\n",
    "        count=count + 1\n",
    "if count == 2:\n",
    "    print('Number is primre')\n",
    "else:\n",
    "    print('Number is not prime')"
   ]
  },
  {
   "cell_type": "code",
   "execution_count": null,
   "metadata": {},
   "outputs": [],
   "source": [
    "# 10.Find Number Prime number B/W range"
   ]
  },
  {
   "cell_type": "code",
   "execution_count": 17,
   "metadata": {},
   "outputs": [
    {
     "name": "stdout",
     "output_type": "stream",
     "text": [
      "Enter the lower Number10\n",
      "Enter the upper Number15\n",
      "11\n",
      "13\n"
     ]
    }
   ],
   "source": [
    "lower=int(input('Enter the lower Number'))\n",
    "upper=int(input('Enter the upper Number'))\n",
    "for i in range(lower,upper+1):\n",
    "    if i>1:\n",
    "        for j in range (2,i):\n",
    "            if (i%j) == 0:\n",
    "                break\n",
    "        else:\n",
    "            print(i)"
   ]
  },
  {
   "cell_type": "code",
   "execution_count": null,
   "metadata": {},
   "outputs": [],
   "source": [
    "# Reverse number"
   ]
  },
  {
   "cell_type": "code",
   "execution_count": 2,
   "metadata": {},
   "outputs": [
    {
     "name": "stdout",
     "output_type": "stream",
     "text": [
      "Enter the number: 234\n",
      "432\n"
     ]
    }
   ],
   "source": [
    "n=int(input(\"Enter the number: \"))\n",
    "reverse=0\n",
    "while n!=0:\n",
    "    degit=n%10\n",
    "    reverse=reverse*10+degit\n",
    "    n=n//10\n",
    "print(reverse)\n",
    "    "
   ]
  },
  {
   "cell_type": "code",
   "execution_count": null,
   "metadata": {},
   "outputs": [],
   "source": [
    "## Polindrome&Non Polindrome"
   ]
  },
  {
   "cell_type": "code",
   "execution_count": 5,
   "metadata": {},
   "outputs": [
    {
     "name": "stdout",
     "output_type": "stream",
     "text": [
      "Enter the number: 4545\n",
      "Non Polindrome\n"
     ]
    }
   ],
   "source": [
    "n=int(input(\"Enter the number: \"))\n",
    "reverse=0\n",
    "a=n\n",
    "while n!=0:\n",
    "    degit=n%10\n",
    "    reverse=reverse*10+degit\n",
    "    n=n//10\n",
    "if a == reverse:\n",
    "    print(\"Polindrome\")\n",
    "else:\n",
    "    print(\"Non Polindrome\")"
   ]
  },
  {
   "cell_type": "code",
   "execution_count": null,
   "metadata": {},
   "outputs": [],
   "source": []
  }
 ],
 "metadata": {
  "kernelspec": {
   "display_name": "Python 3",
   "language": "python",
   "name": "python3"
  },
  "language_info": {
   "codemirror_mode": {
    "name": "ipython",
    "version": 3
   },
   "file_extension": ".py",
   "mimetype": "text/x-python",
   "name": "python",
   "nbconvert_exporter": "python",
   "pygments_lexer": "ipython3",
   "version": "3.8.5"
  }
 },
 "nbformat": 4,
 "nbformat_minor": 4
}
